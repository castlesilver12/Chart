{
 "cells": [
  {
   "cell_type": "markdown",
   "id": "5fc3d54f-ae66-4c39-8a96-e8b503384089",
   "metadata": {},
   "source": [
    "<font size=6><b> lec09. 차트</b></font>\n",
    "* matplotlib\n",
    "* seaborn\n",
    "* plotly"
   ]
  },
  {
   "cell_type": "code",
   "execution_count": 1,
   "id": "27d22087-45f7-4140-8a88-070d0244aea2",
   "metadata": {},
   "outputs": [],
   "source": [
    "# ! pip install matplotlib\n",
    "# ! pip install seaborn\n",
    "# ! pip install plotly"
   ]
  },
  {
   "cell_type": "code",
   "execution_count": 2,
   "id": "8917af5a-a018-4efe-8a90-08bd0cfb3f7d",
   "metadata": {},
   "outputs": [],
   "source": [
    "import pandas as pd\n",
    "import numpy as np\n",
    "import datetime as dt\n",
    "import matplotlib.pyplot as plt\n",
    "import seaborn as sns\n",
    "import warnings\n",
    "warnings.filterwarnings('ignore')\n",
    "\n",
    "#-------------------- 차트 관련 속성 (한글처리, 그리드) -----------\n",
    "plt.rcParams['font.family']= 'Malgun Gothic'\n",
    "plt.rcParams['axes.unicode_minus'] = False\n",
    "sns.set()   # ----------------------격자 그리기\n",
    "\n",
    "#-------------------- 주피터 , 출력결과 넓이 늘리기 ---------------\n",
    "from IPython.core.display import display, HTML\n",
    "display(HTML(\"<style>.container{width:100% !important;}</style>\"))\n",
    "pd.set_option('display.max_rows', 100)\n",
    "pd.set_option('display.max_columns', 100)\n",
    "pd.set_option('max_colwidth', None)\n"
   ]
  },
  {
   "cell_type": "markdown",
   "id": "3eb7232a-8030-4422-bd1b-72de6d39e6df",
   "metadata": {},
   "source": [
    "# Bar 차트"
   ]
  },
  {
   "cell_type": "markdown",
   "id": "b3dffd5d-7fe3-4e94-82f7-d16595e020c4",
   "metadata": {},
   "source": [
    "## matplot"
   ]
  },
  {
   "cell_type": "code",
   "execution_count": 13,
   "id": "6c49ffd4-0aab-4c8e-9daa-c397f00f689e",
   "metadata": {},
   "outputs": [
    {
     "data": {
      "image/png": "[encoded data removed]",
      "text/plain": [
       "<Figure size 648x216 with 4 Axes>"
      ]
     },
     "metadata": {
      "needs_background": "light"
     },
     "output_type": "display_data"
    }
   ],
   "source": [
    "x = ['apple', 'orange', 'lemon', 'lime']\n",
    "y = [10, 15, 5, 20]\n",
    "\n",
    "fig, axs = plt.subplots(1, 4, figsize=(9, 3))\n",
    "axs[0].bar(x, y)\n",
    "axs[1].scatter(x, y)\n",
    "axs[2].plot(x, y)\n",
    "fig.suptitle('Categorical Plotting')\n",
    "plt.show()"
   ]
  },
  {
   "cell_type": "code",
   "execution_count": 4,
   "id": "5b897c52-fe62-4229-9e5d-3cd810e01823",
   "metadata": {},
   "outputs": [
    {
     "data": {
      "image/png": "[encoded data removed]",
      "text/plain": [
       "<Figure size 432x288 with 1 Axes>"
      ]
     },
     "metadata": {
      "needs_background": "light"
     },
     "output_type": "display_data"
    }
   ],
   "source": [
    "\n",
    "labels = ['G1', 'G2', 'G3', 'G4', 'G5']\n",
    "men_means = [20, 34, 30, 35, 27]\n",
    "women_means = [25, 32, 34, 20, 25]\n",
    "\n",
    "x = np.arange(len(labels))  # the label locations\n",
    "width = 0.35  # the width of the bars\n",
    "\n",
    "fig, ax = plt.subplots()\n",
    "rects1 = ax.bar(x - width/2, men_means, width, label='Men')\n",
    "rects2 = ax.bar(x + width/2, women_means, width, label='Women')\n",
    "\n",
    "# Add some text for labels, title and custom x-axis tick labels, etc.\n",
    "ax.set_ylabel('Scores')\n",
    "ax.set_title('Scores by group and gender')\n",
    "ax.set_xticks(x, labels)\n",
    "ax.legend()\n",
    "\n",
    "ax.bar_label(rects1, padding=3)\n",
    "ax.bar_label(rects2, padding=3)\n",
    "\n",
    "fig.tight_layout()\n",
    "\n",
    "plt.show()"
   ]
  },
  {
   "cell_type": "markdown",
   "id": "5a0f0cf1-16b5-4ac0-b032-60ddaca04b3d",
   "metadata": {},
   "source": [
    "## seaborn"
   ]
  },
  {
   "cell_type": "code",
   "execution_count": 5,
   "id": "682c1414-ab7e-4996-a3da-f3e71e3e79ab",
   "metadata": {},
   "outputs": [
    {
     "ename": "SyntaxError",
     "evalue": "invalid syntax (2990072861.py, line 1)",
     "output_type": "error",
     "traceback": [
      "\u001b[1;36m  Input \u001b[1;32mIn [5]\u001b[1;36m\u001b[0m\n\u001b[1;33m    <pre>\u001b[0m\n\u001b[1;37m    ^\u001b[0m\n\u001b[1;31mSyntaxError\u001b[0m\u001b[1;31m:\u001b[0m invalid syntax\n"
     ]
    }
   ],
   "source": [
    "<pre>\n",
    "sns.catplot(data=df, x=\"obj컬럼\", y=\"int컬럼\", kind=\"bar\")  \n",
    "sns.catplot(data=df, x=\"obj컬럼\", y=\"int컬럼\", kind=\"count\")    sns.countplot(data=df, x=\"species\")\n",
    "sns.catplot(data=df, x=\"obj컬럼\", y=\"int컬럼\", kind=\"box\")      sns.boxplot(data=df, x=\"species\", y=\"flipper_length_mm\")\n",
    "sns.catplot(data=df, x=\"obj컬럼\", y=\"int컬럼\", kinid=\"volin\")   sns.violinplot(x=df.species, y=df.flipper_length_mm)          # 분포도\n",
    "                                                               sns.histplot(data=df, x=\"flipper_length_mm\", hue=\"species\")   # ,col=\"species\"\n",
    "                                                               sns.kdeplot (data=df, x=\"flipper_length_mm\", hue=\"species\")   #hist보다 부드려운 곡선\n",
    "                                                               sns.displot (data=df, x=\"flipper_length_mm\", hue=\"species\")   #matplotlib.hist + kdeplot\n",
    "                                                               sns.relplot (data=df, x=\"bill_length_mm\", y=\"bill_depth_mm\")\n",
    "sns.catplot(data=df, x=\"species\", y=\"bill_length_mm\")          sns.scatterplot(data=df, x=\"flipper_length_mm\", y=\"bill_length_mm\")\n",
    "                                                               sns.heatmap(df.corr(), annot=True)\n",
    "                                                               sns.lineplot(data=df, x=\"flipper_length_mm\", y=\"bill_length_mm\")     \n",
    "                                                               \n",
    "                                                               sns.pairplot(df)                                                   # hist + scatter\n",
    "                                                               sns.jointplot(data=df, x=\"flipper_length_mm\", y=\"bill_length_mm\")  # hist + scatter\n"
   ]
  },
  {
   "cell_type": "code",
   "execution_count": null,
   "id": "924a5e09-b819-4bb6-ac6e-8182f6ccdf4e",
   "metadata": {},
   "outputs": [],
   "source": [
    "penguins.head()"
   ]
  },
  {
   "cell_type": "code",
   "execution_count": null,
   "id": "c0605279-8dbc-4ddf-869e-e3f536d14011",
   "metadata": {},
   "outputs": [],
   "source": [
    "df = sns.load_dataset(\"penguins\")\n",
    "bar = sns.barplot(data=df \n",
    "                ,x=\"species\"\n",
    "                ,y=\"body_mass_g\"\n",
    "                ,hue=\"sex\"                 #--------------------막대기 개수\n",
    "                )\n",
    "bar.set(xlabel=\"x-label\", ylabel=\"y-label\")\n",
    "# bar.set_xlabel(\"x-label\")\n",
    "# bar.set_ylabel(\"y-label\")\n",
    "plt.show()"
   ]
  },
  {
   "cell_type": "code",
   "execution_count": null,
   "id": "083d9549-b3f2-440c-8c26-2ba6901b10fe",
   "metadata": {},
   "outputs": [],
   "source": [
    "df = sns.load_dataset(\"penguins\")\n",
    "cat = sns.catplot(data=df, \n",
    "                kind=\"bar\",\n",
    "                x=\"species\", \n",
    "                y=\"body_mass_g\", \n",
    "                hue=\"sex\"                 #--------------------2개 바차트\n",
    "                )\n",
    "cat.set_axis_labels(\"X-label\", \"y-label\")  #--------------------2개 바차트\n",
    "plt.show()"
   ]
  },
  {
   "cell_type": "code",
   "execution_count": null,
   "id": "c7253b3b-c0f9-4b64-ae12-0367e6c67168",
   "metadata": {},
   "outputs": [],
   "source": [
    "df['species'].value_counts()"
   ]
  },
  {
   "cell_type": "code",
   "execution_count": null,
   "id": "9172edb9-e6b1-492d-958f-1570554c1b0f",
   "metadata": {},
   "outputs": [],
   "source": [
    "df = sns.load_dataset(\"penguins\")\n",
    "fig = sns.displot(data=df\n",
    "                ,x=\"flipper_length_mm\"\n",
    "                ,hue=\"sex\"                 #--------------------2개 바차트\n",
    "                ,col=\"species\"             #--------------------ax subplot형태\n",
    "                )"
   ]
  },
  {
   "cell_type": "code",
   "execution_count": null,
   "id": "dd0b17dc-9443-4b74-bed0-ae7f654764a4",
   "metadata": {},
   "outputs": [],
   "source": []
  },
  {
   "cell_type": "code",
   "execution_count": null,
   "id": "fd849680-5c4e-4085-8e34-f11550b36c73",
   "metadata": {},
   "outputs": [],
   "source": [
    "\n",
    "plt.plot([1,2,3], [1,4,9], 'ro')       #-------------------- 차트&데이터\n",
    "plt.plot([2,3,4], [5,6,7], 'b+')     \n",
    "\n",
    "plt.title('chart test')                #-------------------- 제목\n",
    "plt.xlabel('day')                      #-------------------- 레이블\n",
    "plt.ylabel('count')\n",
    "\n",
    "plt.legend(['Mouse', 'Cat'])           #-------------------- 범례\n",
    "plt.grid(True)                         #-------------------- 그리드격자\n",
    "\n",
    "plt.xlim(0, 10)                        #-------------------- x축,y축 눈금\n",
    "plt.ylim(0, 20)               \n",
    "plt.xticks(range(1, 11)) #([0, 1, 2])  #-------------------- x축,y축 눈금값\n",
    "plt.yticks(np.arange(1, 20))         \n",
    "\n",
    "plt.show()\n",
    "\n",
    "\n"
   ]
  },
  {
   "cell_type": "code",
   "execution_count": null,
   "id": "939b1e91-4006-44ee-9a5c-1f44b6d059a1",
   "metadata": {},
   "outputs": [],
   "source": []
  }
 ],
 "metadata": {
  "kernelspec": {
   "display_name": "Python 3 (ipykernel)",
   "language": "python",
   "name": "python3"
  },
  "language_info": {
   "codemirror_mode": {
    "name": "ipython",
    "version": 3
   },
   "file_extension": ".py",
   "mimetype": "text/x-python",
   "name": "python",
   "nbconvert_exporter": "python",
   "pygments_lexer": "ipython3",
   "version": "3.8.8"
  },
  "toc-autonumbering": true
 },
 "nbformat": 4,
 "nbformat_minor": 5
}
